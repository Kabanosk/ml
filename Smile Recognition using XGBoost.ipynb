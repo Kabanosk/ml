{
 "cells": [
  {
   "cell_type": "code",
   "execution_count": 14,
   "metadata": {},
   "outputs": [],
   "source": [
    "import numpy as np\n",
    "\n",
    "import PIL.Image as Image\n",
    "\n",
    "from xgboost import XGBClassifier\n",
    "from sklearn.model_selection import GridSearchCV"
   ]
  },
  {
   "cell_type": "code",
   "execution_count": 4,
   "metadata": {},
   "outputs": [],
   "source": [
    "X_trn, X_test = [], []\n",
    "y_trn, y_test = [], []\n",
    "\n",
    "num_of_pictures = 4000\n",
    "for i in range(1, num_of_pictures+1):\n",
    "    if i <= 1562:\n",
    "        img = Image.open(f'train_dataset/1/file{str(i).zfill(4)}.jpg')\n",
    "        X_trn.append(np.array(img))\n",
    "        y_trn.append(1)\n",
    "    elif i <= 2162:\n",
    "        img = Image.open(f'test_dataset/1/file{str(i).zfill(4)}.jpg')\n",
    "        X_test.append(np.array(img))\n",
    "        y_test.append(1)\n",
    "    elif i <= 3400:\n",
    "        img = Image.open(f'train_dataset/0/file{str(i).zfill(4)}.jpg')\n",
    "        X_trn.append(np.array(img))\n",
    "        y_trn.append(0)\n",
    "    else:\n",
    "        img = Image.open(f'test_dataset/0/file{str(i).zfill(4)}.jpg')\n",
    "        X_test.append(np.array(img))\n",
    "        y_test.append(0)"
   ]
  },
  {
   "cell_type": "code",
   "execution_count": 5,
   "metadata": {},
   "outputs": [],
   "source": [
    "X_trn, X_test, y_trn, y_test = np.array(X_trn).reshape(-1,64*64*3), np.array(X_test).reshape(-1,64*64*3), np.array(y_trn), np.array(y_test)"
   ]
  },
  {
   "cell_type": "code",
   "execution_count": 6,
   "metadata": {},
   "outputs": [],
   "source": [
    "xgb_clf = XGBClassifier()"
   ]
  },
  {
   "cell_type": "code",
   "execution_count": 7,
   "metadata": {},
   "outputs": [],
   "source": [
    "param_grid = {\n",
    "    'eta': [.18, .2, .23],\n",
    "    'max_depth': [12, 15, 17],\n",
    "    'n_estimators': [150, 200, 250]\n",
    "}"
   ]
  },
  {
   "cell_type": "code",
   "execution_count": 8,
   "metadata": {},
   "outputs": [
    {
     "name": "stdout",
     "output_type": "stream",
     "text": [
      "Fitting 3 folds for each of 27 candidates, totalling 81 fits\n",
      "[CV] eta=0.18, max_depth=12, n_estimators=150 ........................\n"
     ]
    },
    {
     "name": "stderr",
     "output_type": "stream",
     "text": [
      "[Parallel(n_jobs=1)]: Using backend SequentialBackend with 1 concurrent workers.\n",
      "C:\\ProgramData\\Anaconda3\\lib\\site-packages\\xgboost\\sklearn.py:1224: UserWarning: The use of label encoder in XGBClassifier is deprecated and will be removed in a future release. To remove this warning, do the following: 1) Pass option use_label_encoder=False when constructing XGBClassifier object; and 2) Encode your labels (y) as integers starting with 0, i.e. 0, 1, 2, ..., [num_class - 1].\n",
      "  warnings.warn(label_encoder_deprecation_msg, UserWarning)\n"
     ]
    },
    {
     "name": "stdout",
     "output_type": "stream",
     "text": [
      "[22:54:06] WARNING: C:/Users/Administrator/workspace/xgboost-win64_release_1.5.0/src/learner.cc:1115: Starting in XGBoost 1.3.0, the default evaluation metric used with the objective 'binary:logistic' was changed from 'error' to 'logloss'. Explicitly set eval_metric if you'd like to restore the old behavior.\n",
      "[CV] ......... eta=0.18, max_depth=12, n_estimators=150, total= 1.3min\n",
      "[CV] eta=0.18, max_depth=12, n_estimators=150 ........................\n"
     ]
    },
    {
     "name": "stderr",
     "output_type": "stream",
     "text": [
      "[Parallel(n_jobs=1)]: Done   1 out of   1 | elapsed:  1.3min remaining:    0.0s\n"
     ]
    },
    {
     "name": "stdout",
     "output_type": "stream",
     "text": [
      "[22:55:26] WARNING: C:/Users/Administrator/workspace/xgboost-win64_release_1.5.0/src/learner.cc:1115: Starting in XGBoost 1.3.0, the default evaluation metric used with the objective 'binary:logistic' was changed from 'error' to 'logloss'. Explicitly set eval_metric if you'd like to restore the old behavior.\n",
      "[CV] ......... eta=0.18, max_depth=12, n_estimators=150, total= 1.4min\n",
      "[CV] eta=0.18, max_depth=12, n_estimators=150 ........................\n",
      "[22:56:50] WARNING: C:/Users/Administrator/workspace/xgboost-win64_release_1.5.0/src/learner.cc:1115: Starting in XGBoost 1.3.0, the default evaluation metric used with the objective 'binary:logistic' was changed from 'error' to 'logloss'. Explicitly set eval_metric if you'd like to restore the old behavior.\n",
      "[CV] ......... eta=0.18, max_depth=12, n_estimators=150, total= 1.4min\n",
      "[CV] eta=0.18, max_depth=12, n_estimators=200 ........................\n",
      "[22:58:12] WARNING: C:/Users/Administrator/workspace/xgboost-win64_release_1.5.0/src/learner.cc:1115: Starting in XGBoost 1.3.0, the default evaluation metric used with the objective 'binary:logistic' was changed from 'error' to 'logloss'. Explicitly set eval_metric if you'd like to restore the old behavior.\n",
      "[CV] ......... eta=0.18, max_depth=12, n_estimators=200, total= 1.6min\n",
      "[CV] eta=0.18, max_depth=12, n_estimators=200 ........................\n",
      "[22:59:47] WARNING: C:/Users/Administrator/workspace/xgboost-win64_release_1.5.0/src/learner.cc:1115: Starting in XGBoost 1.3.0, the default evaluation metric used with the objective 'binary:logistic' was changed from 'error' to 'logloss'. Explicitly set eval_metric if you'd like to restore the old behavior.\n",
      "[CV] ......... eta=0.18, max_depth=12, n_estimators=200, total= 1.5min\n",
      "[CV] eta=0.18, max_depth=12, n_estimators=200 ........................\n",
      "[23:01:18] WARNING: C:/Users/Administrator/workspace/xgboost-win64_release_1.5.0/src/learner.cc:1115: Starting in XGBoost 1.3.0, the default evaluation metric used with the objective 'binary:logistic' was changed from 'error' to 'logloss'. Explicitly set eval_metric if you'd like to restore the old behavior.\n",
      "[CV] ......... eta=0.18, max_depth=12, n_estimators=200, total= 1.5min\n",
      "[CV] eta=0.18, max_depth=12, n_estimators=250 ........................\n",
      "[23:02:45] WARNING: C:/Users/Administrator/workspace/xgboost-win64_release_1.5.0/src/learner.cc:1115: Starting in XGBoost 1.3.0, the default evaluation metric used with the objective 'binary:logistic' was changed from 'error' to 'logloss'. Explicitly set eval_metric if you'd like to restore the old behavior.\n",
      "[CV] ......... eta=0.18, max_depth=12, n_estimators=250, total= 1.7min\n",
      "[CV] eta=0.18, max_depth=12, n_estimators=250 ........................\n",
      "[23:04:29] WARNING: C:/Users/Administrator/workspace/xgboost-win64_release_1.5.0/src/learner.cc:1115: Starting in XGBoost 1.3.0, the default evaluation metric used with the objective 'binary:logistic' was changed from 'error' to 'logloss'. Explicitly set eval_metric if you'd like to restore the old behavior.\n",
      "[CV] ......... eta=0.18, max_depth=12, n_estimators=250, total= 1.7min\n",
      "[CV] eta=0.18, max_depth=12, n_estimators=250 ........................\n",
      "[23:06:13] WARNING: C:/Users/Administrator/workspace/xgboost-win64_release_1.5.0/src/learner.cc:1115: Starting in XGBoost 1.3.0, the default evaluation metric used with the objective 'binary:logistic' was changed from 'error' to 'logloss'. Explicitly set eval_metric if you'd like to restore the old behavior.\n",
      "[CV] ......... eta=0.18, max_depth=12, n_estimators=250, total= 1.7min\n",
      "[CV] eta=0.18, max_depth=15, n_estimators=150 ........................\n",
      "[23:07:55] WARNING: C:/Users/Administrator/workspace/xgboost-win64_release_1.5.0/src/learner.cc:1115: Starting in XGBoost 1.3.0, the default evaluation metric used with the objective 'binary:logistic' was changed from 'error' to 'logloss'. Explicitly set eval_metric if you'd like to restore the old behavior.\n",
      "[CV] ......... eta=0.18, max_depth=15, n_estimators=150, total= 1.3min\n",
      "[CV] eta=0.18, max_depth=15, n_estimators=150 ........................\n",
      "[23:09:15] WARNING: C:/Users/Administrator/workspace/xgboost-win64_release_1.5.0/src/learner.cc:1115: Starting in XGBoost 1.3.0, the default evaluation metric used with the objective 'binary:logistic' was changed from 'error' to 'logloss'. Explicitly set eval_metric if you'd like to restore the old behavior.\n",
      "[CV] ......... eta=0.18, max_depth=15, n_estimators=150, total= 1.3min\n",
      "[CV] eta=0.18, max_depth=15, n_estimators=150 ........................\n",
      "[23:10:33] WARNING: C:/Users/Administrator/workspace/xgboost-win64_release_1.5.0/src/learner.cc:1115: Starting in XGBoost 1.3.0, the default evaluation metric used with the objective 'binary:logistic' was changed from 'error' to 'logloss'. Explicitly set eval_metric if you'd like to restore the old behavior.\n",
      "[CV] ......... eta=0.18, max_depth=15, n_estimators=150, total= 1.3min\n",
      "[CV] eta=0.18, max_depth=15, n_estimators=200 ........................\n",
      "[23:11:51] WARNING: C:/Users/Administrator/workspace/xgboost-win64_release_1.5.0/src/learner.cc:1115: Starting in XGBoost 1.3.0, the default evaluation metric used with the objective 'binary:logistic' was changed from 'error' to 'logloss'. Explicitly set eval_metric if you'd like to restore the old behavior.\n",
      "[CV] ......... eta=0.18, max_depth=15, n_estimators=200, total= 1.5min\n",
      "[CV] eta=0.18, max_depth=15, n_estimators=200 ........................\n",
      "[23:13:23] WARNING: C:/Users/Administrator/workspace/xgboost-win64_release_1.5.0/src/learner.cc:1115: Starting in XGBoost 1.3.0, the default evaluation metric used with the objective 'binary:logistic' was changed from 'error' to 'logloss'. Explicitly set eval_metric if you'd like to restore the old behavior.\n",
      "[CV] ......... eta=0.18, max_depth=15, n_estimators=200, total= 1.5min\n",
      "[CV] eta=0.18, max_depth=15, n_estimators=200 ........................\n",
      "[23:14:55] WARNING: C:/Users/Administrator/workspace/xgboost-win64_release_1.5.0/src/learner.cc:1115: Starting in XGBoost 1.3.0, the default evaluation metric used with the objective 'binary:logistic' was changed from 'error' to 'logloss'. Explicitly set eval_metric if you'd like to restore the old behavior.\n",
      "[CV] ......... eta=0.18, max_depth=15, n_estimators=200, total= 1.5min\n",
      "[CV] eta=0.18, max_depth=15, n_estimators=250 ........................\n",
      "[23:16:26] WARNING: C:/Users/Administrator/workspace/xgboost-win64_release_1.5.0/src/learner.cc:1115: Starting in XGBoost 1.3.0, the default evaluation metric used with the objective 'binary:logistic' was changed from 'error' to 'logloss'. Explicitly set eval_metric if you'd like to restore the old behavior.\n",
      "[CV] ......... eta=0.18, max_depth=15, n_estimators=250, total= 1.7min\n",
      "[CV] eta=0.18, max_depth=15, n_estimators=250 ........................\n",
      "[23:18:10] WARNING: C:/Users/Administrator/workspace/xgboost-win64_release_1.5.0/src/learner.cc:1115: Starting in XGBoost 1.3.0, the default evaluation metric used with the objective 'binary:logistic' was changed from 'error' to 'logloss'. Explicitly set eval_metric if you'd like to restore the old behavior.\n",
      "[CV] ......... eta=0.18, max_depth=15, n_estimators=250, total= 1.7min\n",
      "[CV] eta=0.18, max_depth=15, n_estimators=250 ........................\n",
      "[23:19:53] WARNING: C:/Users/Administrator/workspace/xgboost-win64_release_1.5.0/src/learner.cc:1115: Starting in XGBoost 1.3.0, the default evaluation metric used with the objective 'binary:logistic' was changed from 'error' to 'logloss'. Explicitly set eval_metric if you'd like to restore the old behavior.\n",
      "[CV] ......... eta=0.18, max_depth=15, n_estimators=250, total= 1.7min\n",
      "[CV] eta=0.18, max_depth=17, n_estimators=150 ........................\n",
      "[23:21:37] WARNING: C:/Users/Administrator/workspace/xgboost-win64_release_1.5.0/src/learner.cc:1115: Starting in XGBoost 1.3.0, the default evaluation metric used with the objective 'binary:logistic' was changed from 'error' to 'logloss'. Explicitly set eval_metric if you'd like to restore the old behavior.\n",
      "[CV] ......... eta=0.18, max_depth=17, n_estimators=150, total= 1.3min\n",
      "[CV] eta=0.18, max_depth=17, n_estimators=150 ........................\n",
      "[23:22:56] WARNING: C:/Users/Administrator/workspace/xgboost-win64_release_1.5.0/src/learner.cc:1115: Starting in XGBoost 1.3.0, the default evaluation metric used with the objective 'binary:logistic' was changed from 'error' to 'logloss'. Explicitly set eval_metric if you'd like to restore the old behavior.\n"
     ]
    },
    {
     "name": "stdout",
     "output_type": "stream",
     "text": [
      "[CV] ......... eta=0.18, max_depth=17, n_estimators=150, total= 1.3min\n",
      "[CV] eta=0.18, max_depth=17, n_estimators=150 ........................\n",
      "[23:24:16] WARNING: C:/Users/Administrator/workspace/xgboost-win64_release_1.5.0/src/learner.cc:1115: Starting in XGBoost 1.3.0, the default evaluation metric used with the objective 'binary:logistic' was changed from 'error' to 'logloss'. Explicitly set eval_metric if you'd like to restore the old behavior.\n",
      "[CV] ......... eta=0.18, max_depth=17, n_estimators=150, total= 1.4min\n",
      "[CV] eta=0.18, max_depth=17, n_estimators=200 ........................\n",
      "[23:25:43] WARNING: C:/Users/Administrator/workspace/xgboost-win64_release_1.5.0/src/learner.cc:1115: Starting in XGBoost 1.3.0, the default evaluation metric used with the objective 'binary:logistic' was changed from 'error' to 'logloss'. Explicitly set eval_metric if you'd like to restore the old behavior.\n",
      "[CV] ......... eta=0.18, max_depth=17, n_estimators=200, total= 2.1min\n",
      "[CV] eta=0.18, max_depth=17, n_estimators=200 ........................\n",
      "[23:27:52] WARNING: C:/Users/Administrator/workspace/xgboost-win64_release_1.5.0/src/learner.cc:1115: Starting in XGBoost 1.3.0, the default evaluation metric used with the objective 'binary:logistic' was changed from 'error' to 'logloss'. Explicitly set eval_metric if you'd like to restore the old behavior.\n",
      "[CV] ......... eta=0.18, max_depth=17, n_estimators=200, total= 2.2min\n",
      "[CV] eta=0.18, max_depth=17, n_estimators=200 ........................\n",
      "[23:30:01] WARNING: C:/Users/Administrator/workspace/xgboost-win64_release_1.5.0/src/learner.cc:1115: Starting in XGBoost 1.3.0, the default evaluation metric used with the objective 'binary:logistic' was changed from 'error' to 'logloss'. Explicitly set eval_metric if you'd like to restore the old behavior.\n",
      "[CV] ......... eta=0.18, max_depth=17, n_estimators=200, total= 2.3min\n",
      "[CV] eta=0.18, max_depth=17, n_estimators=250 ........................\n",
      "[23:32:17] WARNING: C:/Users/Administrator/workspace/xgboost-win64_release_1.5.0/src/learner.cc:1115: Starting in XGBoost 1.3.0, the default evaluation metric used with the objective 'binary:logistic' was changed from 'error' to 'logloss'. Explicitly set eval_metric if you'd like to restore the old behavior.\n",
      "[CV] ......... eta=0.18, max_depth=17, n_estimators=250, total= 2.6min\n",
      "[CV] eta=0.18, max_depth=17, n_estimators=250 ........................\n",
      "[23:34:52] WARNING: C:/Users/Administrator/workspace/xgboost-win64_release_1.5.0/src/learner.cc:1115: Starting in XGBoost 1.3.0, the default evaluation metric used with the objective 'binary:logistic' was changed from 'error' to 'logloss'. Explicitly set eval_metric if you'd like to restore the old behavior.\n",
      "[CV] ......... eta=0.18, max_depth=17, n_estimators=250, total= 2.4min\n",
      "[CV] eta=0.18, max_depth=17, n_estimators=250 ........................\n",
      "[23:37:17] WARNING: C:/Users/Administrator/workspace/xgboost-win64_release_1.5.0/src/learner.cc:1115: Starting in XGBoost 1.3.0, the default evaluation metric used with the objective 'binary:logistic' was changed from 'error' to 'logloss'. Explicitly set eval_metric if you'd like to restore the old behavior.\n",
      "[CV] ......... eta=0.18, max_depth=17, n_estimators=250, total= 2.5min\n",
      "[CV] eta=0.2, max_depth=12, n_estimators=150 .........................\n",
      "[23:39:47] WARNING: C:/Users/Administrator/workspace/xgboost-win64_release_1.5.0/src/learner.cc:1115: Starting in XGBoost 1.3.0, the default evaluation metric used with the objective 'binary:logistic' was changed from 'error' to 'logloss'. Explicitly set eval_metric if you'd like to restore the old behavior.\n",
      "[CV] .......... eta=0.2, max_depth=12, n_estimators=150, total= 1.7min\n",
      "[CV] eta=0.2, max_depth=12, n_estimators=150 .........................\n",
      "[23:41:28] WARNING: C:/Users/Administrator/workspace/xgboost-win64_release_1.5.0/src/learner.cc:1115: Starting in XGBoost 1.3.0, the default evaluation metric used with the objective 'binary:logistic' was changed from 'error' to 'logloss'. Explicitly set eval_metric if you'd like to restore the old behavior.\n",
      "[CV] .......... eta=0.2, max_depth=12, n_estimators=150, total= 1.6min\n",
      "[CV] eta=0.2, max_depth=12, n_estimators=150 .........................\n",
      "[23:43:05] WARNING: C:/Users/Administrator/workspace/xgboost-win64_release_1.5.0/src/learner.cc:1115: Starting in XGBoost 1.3.0, the default evaluation metric used with the objective 'binary:logistic' was changed from 'error' to 'logloss'. Explicitly set eval_metric if you'd like to restore the old behavior.\n",
      "[CV] .......... eta=0.2, max_depth=12, n_estimators=150, total= 1.6min\n",
      "[CV] eta=0.2, max_depth=12, n_estimators=200 .........................\n",
      "[23:44:42] WARNING: C:/Users/Administrator/workspace/xgboost-win64_release_1.5.0/src/learner.cc:1115: Starting in XGBoost 1.3.0, the default evaluation metric used with the objective 'binary:logistic' was changed from 'error' to 'logloss'. Explicitly set eval_metric if you'd like to restore the old behavior.\n",
      "[CV] .......... eta=0.2, max_depth=12, n_estimators=200, total= 2.0min\n",
      "[CV] eta=0.2, max_depth=12, n_estimators=200 .........................\n",
      "[23:46:40] WARNING: C:/Users/Administrator/workspace/xgboost-win64_release_1.5.0/src/learner.cc:1115: Starting in XGBoost 1.3.0, the default evaluation metric used with the objective 'binary:logistic' was changed from 'error' to 'logloss'. Explicitly set eval_metric if you'd like to restore the old behavior.\n",
      "[CV] .......... eta=0.2, max_depth=12, n_estimators=200, total= 2.0min\n",
      "[CV] eta=0.2, max_depth=12, n_estimators=200 .........................\n",
      "[23:48:39] WARNING: C:/Users/Administrator/workspace/xgboost-win64_release_1.5.0/src/learner.cc:1115: Starting in XGBoost 1.3.0, the default evaluation metric used with the objective 'binary:logistic' was changed from 'error' to 'logloss'. Explicitly set eval_metric if you'd like to restore the old behavior.\n",
      "[CV] .......... eta=0.2, max_depth=12, n_estimators=200, total= 1.9min\n",
      "[CV] eta=0.2, max_depth=12, n_estimators=250 .........................\n",
      "[23:50:31] WARNING: C:/Users/Administrator/workspace/xgboost-win64_release_1.5.0/src/learner.cc:1115: Starting in XGBoost 1.3.0, the default evaluation metric used with the objective 'binary:logistic' was changed from 'error' to 'logloss'. Explicitly set eval_metric if you'd like to restore the old behavior.\n",
      "[CV] .......... eta=0.2, max_depth=12, n_estimators=250, total= 1.9min\n",
      "[CV] eta=0.2, max_depth=12, n_estimators=250 .........................\n",
      "[23:52:27] WARNING: C:/Users/Administrator/workspace/xgboost-win64_release_1.5.0/src/learner.cc:1115: Starting in XGBoost 1.3.0, the default evaluation metric used with the objective 'binary:logistic' was changed from 'error' to 'logloss'. Explicitly set eval_metric if you'd like to restore the old behavior.\n",
      "[CV] .......... eta=0.2, max_depth=12, n_estimators=250, total= 1.9min\n",
      "[CV] eta=0.2, max_depth=12, n_estimators=250 .........................\n",
      "[23:54:22] WARNING: C:/Users/Administrator/workspace/xgboost-win64_release_1.5.0/src/learner.cc:1115: Starting in XGBoost 1.3.0, the default evaluation metric used with the objective 'binary:logistic' was changed from 'error' to 'logloss'. Explicitly set eval_metric if you'd like to restore the old behavior.\n",
      "[CV] .......... eta=0.2, max_depth=12, n_estimators=250, total= 2.0min\n",
      "[CV] eta=0.2, max_depth=15, n_estimators=150 .........................\n",
      "[23:56:18] WARNING: C:/Users/Administrator/workspace/xgboost-win64_release_1.5.0/src/learner.cc:1115: Starting in XGBoost 1.3.0, the default evaluation metric used with the objective 'binary:logistic' was changed from 'error' to 'logloss'. Explicitly set eval_metric if you'd like to restore the old behavior.\n",
      "[CV] .......... eta=0.2, max_depth=15, n_estimators=150, total= 1.4min\n",
      "[CV] eta=0.2, max_depth=15, n_estimators=150 .........................\n",
      "[23:57:44] WARNING: C:/Users/Administrator/workspace/xgboost-win64_release_1.5.0/src/learner.cc:1115: Starting in XGBoost 1.3.0, the default evaluation metric used with the objective 'binary:logistic' was changed from 'error' to 'logloss'. Explicitly set eval_metric if you'd like to restore the old behavior.\n",
      "[CV] .......... eta=0.2, max_depth=15, n_estimators=150, total= 1.4min\n",
      "[CV] eta=0.2, max_depth=15, n_estimators=150 .........................\n"
     ]
    },
    {
     "name": "stdout",
     "output_type": "stream",
     "text": [
      "[23:59:09] WARNING: C:/Users/Administrator/workspace/xgboost-win64_release_1.5.0/src/learner.cc:1115: Starting in XGBoost 1.3.0, the default evaluation metric used with the objective 'binary:logistic' was changed from 'error' to 'logloss'. Explicitly set eval_metric if you'd like to restore the old behavior.\n",
      "[CV] .......... eta=0.2, max_depth=15, n_estimators=150, total= 1.5min\n",
      "[CV] eta=0.2, max_depth=15, n_estimators=200 .........................\n",
      "[00:00:36] WARNING: C:/Users/Administrator/workspace/xgboost-win64_release_1.5.0/src/learner.cc:1115: Starting in XGBoost 1.3.0, the default evaluation metric used with the objective 'binary:logistic' was changed from 'error' to 'logloss'. Explicitly set eval_metric if you'd like to restore the old behavior.\n",
      "[CV] .......... eta=0.2, max_depth=15, n_estimators=200, total= 1.7min\n",
      "[CV] eta=0.2, max_depth=15, n_estimators=200 .........................\n",
      "[00:02:17] WARNING: C:/Users/Administrator/workspace/xgboost-win64_release_1.5.0/src/learner.cc:1115: Starting in XGBoost 1.3.0, the default evaluation metric used with the objective 'binary:logistic' was changed from 'error' to 'logloss'. Explicitly set eval_metric if you'd like to restore the old behavior.\n",
      "[CV] .......... eta=0.2, max_depth=15, n_estimators=200, total= 1.7min\n",
      "[CV] eta=0.2, max_depth=15, n_estimators=200 .........................\n",
      "[00:03:59] WARNING: C:/Users/Administrator/workspace/xgboost-win64_release_1.5.0/src/learner.cc:1115: Starting in XGBoost 1.3.0, the default evaluation metric used with the objective 'binary:logistic' was changed from 'error' to 'logloss'. Explicitly set eval_metric if you'd like to restore the old behavior.\n",
      "[CV] .......... eta=0.2, max_depth=15, n_estimators=200, total= 1.8min\n",
      "[CV] eta=0.2, max_depth=15, n_estimators=250 .........................\n",
      "[00:05:45] WARNING: C:/Users/Administrator/workspace/xgboost-win64_release_1.5.0/src/learner.cc:1115: Starting in XGBoost 1.3.0, the default evaluation metric used with the objective 'binary:logistic' was changed from 'error' to 'logloss'. Explicitly set eval_metric if you'd like to restore the old behavior.\n",
      "[CV] .......... eta=0.2, max_depth=15, n_estimators=250, total= 1.9min\n",
      "[CV] eta=0.2, max_depth=15, n_estimators=250 .........................\n",
      "[00:07:38] WARNING: C:/Users/Administrator/workspace/xgboost-win64_release_1.5.0/src/learner.cc:1115: Starting in XGBoost 1.3.0, the default evaluation metric used with the objective 'binary:logistic' was changed from 'error' to 'logloss'. Explicitly set eval_metric if you'd like to restore the old behavior.\n",
      "[CV] .......... eta=0.2, max_depth=15, n_estimators=250, total= 1.9min\n",
      "[CV] eta=0.2, max_depth=15, n_estimators=250 .........................\n",
      "[00:09:31] WARNING: C:/Users/Administrator/workspace/xgboost-win64_release_1.5.0/src/learner.cc:1115: Starting in XGBoost 1.3.0, the default evaluation metric used with the objective 'binary:logistic' was changed from 'error' to 'logloss'. Explicitly set eval_metric if you'd like to restore the old behavior.\n",
      "[CV] .......... eta=0.2, max_depth=15, n_estimators=250, total= 1.9min\n",
      "[CV] eta=0.2, max_depth=17, n_estimators=150 .........................\n",
      "[00:11:23] WARNING: C:/Users/Administrator/workspace/xgboost-win64_release_1.5.0/src/learner.cc:1115: Starting in XGBoost 1.3.0, the default evaluation metric used with the objective 'binary:logistic' was changed from 'error' to 'logloss'. Explicitly set eval_metric if you'd like to restore the old behavior.\n",
      "[CV] .......... eta=0.2, max_depth=17, n_estimators=150, total= 1.4min\n",
      "[CV] eta=0.2, max_depth=17, n_estimators=150 .........................\n",
      "[00:12:49] WARNING: C:/Users/Administrator/workspace/xgboost-win64_release_1.5.0/src/learner.cc:1115: Starting in XGBoost 1.3.0, the default evaluation metric used with the objective 'binary:logistic' was changed from 'error' to 'logloss'. Explicitly set eval_metric if you'd like to restore the old behavior.\n",
      "[CV] .......... eta=0.2, max_depth=17, n_estimators=150, total= 1.4min\n",
      "[CV] eta=0.2, max_depth=17, n_estimators=150 .........................\n",
      "[00:14:10] WARNING: C:/Users/Administrator/workspace/xgboost-win64_release_1.5.0/src/learner.cc:1115: Starting in XGBoost 1.3.0, the default evaluation metric used with the objective 'binary:logistic' was changed from 'error' to 'logloss'. Explicitly set eval_metric if you'd like to restore the old behavior.\n",
      "[CV] .......... eta=0.2, max_depth=17, n_estimators=150, total= 1.4min\n",
      "[CV] eta=0.2, max_depth=17, n_estimators=200 .........................\n",
      "[00:15:31] WARNING: C:/Users/Administrator/workspace/xgboost-win64_release_1.5.0/src/learner.cc:1115: Starting in XGBoost 1.3.0, the default evaluation metric used with the objective 'binary:logistic' was changed from 'error' to 'logloss'. Explicitly set eval_metric if you'd like to restore the old behavior.\n",
      "[CV] .......... eta=0.2, max_depth=17, n_estimators=200, total= 1.6min\n",
      "[CV] eta=0.2, max_depth=17, n_estimators=200 .........................\n",
      "[00:17:05] WARNING: C:/Users/Administrator/workspace/xgboost-win64_release_1.5.0/src/learner.cc:1115: Starting in XGBoost 1.3.0, the default evaluation metric used with the objective 'binary:logistic' was changed from 'error' to 'logloss'. Explicitly set eval_metric if you'd like to restore the old behavior.\n",
      "[CV] .......... eta=0.2, max_depth=17, n_estimators=200, total= 1.6min\n",
      "[CV] eta=0.2, max_depth=17, n_estimators=200 .........................\n",
      "[00:18:38] WARNING: C:/Users/Administrator/workspace/xgboost-win64_release_1.5.0/src/learner.cc:1115: Starting in XGBoost 1.3.0, the default evaluation metric used with the objective 'binary:logistic' was changed from 'error' to 'logloss'. Explicitly set eval_metric if you'd like to restore the old behavior.\n",
      "[CV] .......... eta=0.2, max_depth=17, n_estimators=200, total= 1.6min\n",
      "[CV] eta=0.2, max_depth=17, n_estimators=250 .........................\n",
      "[00:20:12] WARNING: C:/Users/Administrator/workspace/xgboost-win64_release_1.5.0/src/learner.cc:1115: Starting in XGBoost 1.3.0, the default evaluation metric used with the objective 'binary:logistic' was changed from 'error' to 'logloss'. Explicitly set eval_metric if you'd like to restore the old behavior.\n",
      "[CV] .......... eta=0.2, max_depth=17, n_estimators=250, total= 1.8min\n",
      "[CV] eta=0.2, max_depth=17, n_estimators=250 .........................\n",
      "[00:21:58] WARNING: C:/Users/Administrator/workspace/xgboost-win64_release_1.5.0/src/learner.cc:1115: Starting in XGBoost 1.3.0, the default evaluation metric used with the objective 'binary:logistic' was changed from 'error' to 'logloss'. Explicitly set eval_metric if you'd like to restore the old behavior.\n",
      "[CV] .......... eta=0.2, max_depth=17, n_estimators=250, total= 1.8min\n",
      "[CV] eta=0.2, max_depth=17, n_estimators=250 .........................\n",
      "[00:23:43] WARNING: C:/Users/Administrator/workspace/xgboost-win64_release_1.5.0/src/learner.cc:1115: Starting in XGBoost 1.3.0, the default evaluation metric used with the objective 'binary:logistic' was changed from 'error' to 'logloss'. Explicitly set eval_metric if you'd like to restore the old behavior.\n",
      "[CV] .......... eta=0.2, max_depth=17, n_estimators=250, total= 1.8min\n",
      "[CV] eta=0.23, max_depth=12, n_estimators=150 ........................\n",
      "[00:25:31] WARNING: C:/Users/Administrator/workspace/xgboost-win64_release_1.5.0/src/learner.cc:1115: Starting in XGBoost 1.3.0, the default evaluation metric used with the objective 'binary:logistic' was changed from 'error' to 'logloss'. Explicitly set eval_metric if you'd like to restore the old behavior.\n",
      "[CV] ......... eta=0.23, max_depth=12, n_estimators=150, total= 1.3min\n",
      "[CV] eta=0.23, max_depth=12, n_estimators=150 ........................\n",
      "[00:26:46] WARNING: C:/Users/Administrator/workspace/xgboost-win64_release_1.5.0/src/learner.cc:1115: Starting in XGBoost 1.3.0, the default evaluation metric used with the objective 'binary:logistic' was changed from 'error' to 'logloss'. Explicitly set eval_metric if you'd like to restore the old behavior.\n",
      "[CV] ......... eta=0.23, max_depth=12, n_estimators=150, total= 1.2min\n",
      "[CV] eta=0.23, max_depth=12, n_estimators=150 ........................\n",
      "[00:28:01] WARNING: C:/Users/Administrator/workspace/xgboost-win64_release_1.5.0/src/learner.cc:1115: Starting in XGBoost 1.3.0, the default evaluation metric used with the objective 'binary:logistic' was changed from 'error' to 'logloss'. Explicitly set eval_metric if you'd like to restore the old behavior.\n"
     ]
    },
    {
     "name": "stdout",
     "output_type": "stream",
     "text": [
      "[CV] ......... eta=0.23, max_depth=12, n_estimators=150, total= 1.2min\n",
      "[CV] eta=0.23, max_depth=12, n_estimators=200 ........................\n",
      "[00:29:15] WARNING: C:/Users/Administrator/workspace/xgboost-win64_release_1.5.0/src/learner.cc:1115: Starting in XGBoost 1.3.0, the default evaluation metric used with the objective 'binary:logistic' was changed from 'error' to 'logloss'. Explicitly set eval_metric if you'd like to restore the old behavior.\n",
      "[CV] ......... eta=0.23, max_depth=12, n_estimators=200, total= 1.4min\n",
      "[CV] eta=0.23, max_depth=12, n_estimators=200 ........................\n",
      "[00:30:42] WARNING: C:/Users/Administrator/workspace/xgboost-win64_release_1.5.0/src/learner.cc:1115: Starting in XGBoost 1.3.0, the default evaluation metric used with the objective 'binary:logistic' was changed from 'error' to 'logloss'. Explicitly set eval_metric if you'd like to restore the old behavior.\n",
      "[CV] ......... eta=0.23, max_depth=12, n_estimators=200, total= 1.4min\n",
      "[CV] eta=0.23, max_depth=12, n_estimators=200 ........................\n",
      "[00:32:08] WARNING: C:/Users/Administrator/workspace/xgboost-win64_release_1.5.0/src/learner.cc:1115: Starting in XGBoost 1.3.0, the default evaluation metric used with the objective 'binary:logistic' was changed from 'error' to 'logloss'. Explicitly set eval_metric if you'd like to restore the old behavior.\n",
      "[CV] ......... eta=0.23, max_depth=12, n_estimators=200, total= 1.4min\n",
      "[CV] eta=0.23, max_depth=12, n_estimators=250 ........................\n",
      "[00:33:35] WARNING: C:/Users/Administrator/workspace/xgboost-win64_release_1.5.0/src/learner.cc:1115: Starting in XGBoost 1.3.0, the default evaluation metric used with the objective 'binary:logistic' was changed from 'error' to 'logloss'. Explicitly set eval_metric if you'd like to restore the old behavior.\n",
      "[CV] ......... eta=0.23, max_depth=12, n_estimators=250, total= 1.6min\n",
      "[CV] eta=0.23, max_depth=12, n_estimators=250 ........................\n",
      "[00:35:12] WARNING: C:/Users/Administrator/workspace/xgboost-win64_release_1.5.0/src/learner.cc:1115: Starting in XGBoost 1.3.0, the default evaluation metric used with the objective 'binary:logistic' was changed from 'error' to 'logloss'. Explicitly set eval_metric if you'd like to restore the old behavior.\n",
      "[CV] ......... eta=0.23, max_depth=12, n_estimators=250, total= 1.6min\n",
      "[CV] eta=0.23, max_depth=12, n_estimators=250 ........................\n",
      "[00:36:48] WARNING: C:/Users/Administrator/workspace/xgboost-win64_release_1.5.0/src/learner.cc:1115: Starting in XGBoost 1.3.0, the default evaluation metric used with the objective 'binary:logistic' was changed from 'error' to 'logloss'. Explicitly set eval_metric if you'd like to restore the old behavior.\n",
      "[CV] ......... eta=0.23, max_depth=12, n_estimators=250, total= 1.7min\n",
      "[CV] eta=0.23, max_depth=15, n_estimators=150 ........................\n",
      "[00:38:30] WARNING: C:/Users/Administrator/workspace/xgboost-win64_release_1.5.0/src/learner.cc:1115: Starting in XGBoost 1.3.0, the default evaluation metric used with the objective 'binary:logistic' was changed from 'error' to 'logloss'. Explicitly set eval_metric if you'd like to restore the old behavior.\n",
      "[CV] ......... eta=0.23, max_depth=15, n_estimators=150, total= 1.4min\n",
      "[CV] eta=0.23, max_depth=15, n_estimators=150 ........................\n",
      "[00:39:53] WARNING: C:/Users/Administrator/workspace/xgboost-win64_release_1.5.0/src/learner.cc:1115: Starting in XGBoost 1.3.0, the default evaluation metric used with the objective 'binary:logistic' was changed from 'error' to 'logloss'. Explicitly set eval_metric if you'd like to restore the old behavior.\n",
      "[CV] ......... eta=0.23, max_depth=15, n_estimators=150, total= 1.4min\n",
      "[CV] eta=0.23, max_depth=15, n_estimators=150 ........................\n",
      "[00:41:17] WARNING: C:/Users/Administrator/workspace/xgboost-win64_release_1.5.0/src/learner.cc:1115: Starting in XGBoost 1.3.0, the default evaluation metric used with the objective 'binary:logistic' was changed from 'error' to 'logloss'. Explicitly set eval_metric if you'd like to restore the old behavior.\n",
      "[CV] ......... eta=0.23, max_depth=15, n_estimators=150, total= 1.3min\n",
      "[CV] eta=0.23, max_depth=15, n_estimators=200 ........................\n",
      "[00:42:36] WARNING: C:/Users/Administrator/workspace/xgboost-win64_release_1.5.0/src/learner.cc:1115: Starting in XGBoost 1.3.0, the default evaluation metric used with the objective 'binary:logistic' was changed from 'error' to 'logloss'. Explicitly set eval_metric if you'd like to restore the old behavior.\n",
      "[CV] ......... eta=0.23, max_depth=15, n_estimators=200, total= 1.5min\n",
      "[CV] eta=0.23, max_depth=15, n_estimators=200 ........................\n",
      "[00:44:08] WARNING: C:/Users/Administrator/workspace/xgboost-win64_release_1.5.0/src/learner.cc:1115: Starting in XGBoost 1.3.0, the default evaluation metric used with the objective 'binary:logistic' was changed from 'error' to 'logloss'. Explicitly set eval_metric if you'd like to restore the old behavior.\n",
      "[CV] ......... eta=0.23, max_depth=15, n_estimators=200, total= 1.5min\n",
      "[CV] eta=0.23, max_depth=15, n_estimators=200 ........................\n",
      "[00:45:39] WARNING: C:/Users/Administrator/workspace/xgboost-win64_release_1.5.0/src/learner.cc:1115: Starting in XGBoost 1.3.0, the default evaluation metric used with the objective 'binary:logistic' was changed from 'error' to 'logloss'. Explicitly set eval_metric if you'd like to restore the old behavior.\n",
      "[CV] ......... eta=0.23, max_depth=15, n_estimators=200, total= 1.6min\n",
      "[CV] eta=0.23, max_depth=15, n_estimators=250 ........................\n",
      "[00:47:15] WARNING: C:/Users/Administrator/workspace/xgboost-win64_release_1.5.0/src/learner.cc:1115: Starting in XGBoost 1.3.0, the default evaluation metric used with the objective 'binary:logistic' was changed from 'error' to 'logloss'. Explicitly set eval_metric if you'd like to restore the old behavior.\n",
      "[CV] ......... eta=0.23, max_depth=15, n_estimators=250, total= 1.8min\n",
      "[CV] eta=0.23, max_depth=15, n_estimators=250 ........................\n",
      "[00:49:02] WARNING: C:/Users/Administrator/workspace/xgboost-win64_release_1.5.0/src/learner.cc:1115: Starting in XGBoost 1.3.0, the default evaluation metric used with the objective 'binary:logistic' was changed from 'error' to 'logloss'. Explicitly set eval_metric if you'd like to restore the old behavior.\n",
      "[CV] ......... eta=0.23, max_depth=15, n_estimators=250, total= 1.9min\n",
      "[CV] eta=0.23, max_depth=15, n_estimators=250 ........................\n",
      "[00:50:57] WARNING: C:/Users/Administrator/workspace/xgboost-win64_release_1.5.0/src/learner.cc:1115: Starting in XGBoost 1.3.0, the default evaluation metric used with the objective 'binary:logistic' was changed from 'error' to 'logloss'. Explicitly set eval_metric if you'd like to restore the old behavior.\n",
      "[CV] ......... eta=0.23, max_depth=15, n_estimators=250, total= 1.8min\n",
      "[CV] eta=0.23, max_depth=17, n_estimators=150 ........................\n",
      "[00:52:46] WARNING: C:/Users/Administrator/workspace/xgboost-win64_release_1.5.0/src/learner.cc:1115: Starting in XGBoost 1.3.0, the default evaluation metric used with the objective 'binary:logistic' was changed from 'error' to 'logloss'. Explicitly set eval_metric if you'd like to restore the old behavior.\n",
      "[CV] ......... eta=0.23, max_depth=17, n_estimators=150, total= 1.4min\n",
      "[CV] eta=0.23, max_depth=17, n_estimators=150 ........................\n",
      "[00:54:11] WARNING: C:/Users/Administrator/workspace/xgboost-win64_release_1.5.0/src/learner.cc:1115: Starting in XGBoost 1.3.0, the default evaluation metric used with the objective 'binary:logistic' was changed from 'error' to 'logloss'. Explicitly set eval_metric if you'd like to restore the old behavior.\n",
      "[CV] ......... eta=0.23, max_depth=17, n_estimators=150, total= 1.4min\n",
      "[CV] eta=0.23, max_depth=17, n_estimators=150 ........................\n",
      "[00:55:33] WARNING: C:/Users/Administrator/workspace/xgboost-win64_release_1.5.0/src/learner.cc:1115: Starting in XGBoost 1.3.0, the default evaluation metric used with the objective 'binary:logistic' was changed from 'error' to 'logloss'. Explicitly set eval_metric if you'd like to restore the old behavior.\n",
      "[CV] ......... eta=0.23, max_depth=17, n_estimators=150, total= 1.4min\n",
      "[CV] eta=0.23, max_depth=17, n_estimators=200 ........................\n"
     ]
    },
    {
     "name": "stdout",
     "output_type": "stream",
     "text": [
      "[00:56:56] WARNING: C:/Users/Administrator/workspace/xgboost-win64_release_1.5.0/src/learner.cc:1115: Starting in XGBoost 1.3.0, the default evaluation metric used with the objective 'binary:logistic' was changed from 'error' to 'logloss'. Explicitly set eval_metric if you'd like to restore the old behavior.\n",
      "[CV] ......... eta=0.23, max_depth=17, n_estimators=200, total= 1.8min\n",
      "[CV] eta=0.23, max_depth=17, n_estimators=200 ........................\n",
      "[00:58:45] WARNING: C:/Users/Administrator/workspace/xgboost-win64_release_1.5.0/src/learner.cc:1115: Starting in XGBoost 1.3.0, the default evaluation metric used with the objective 'binary:logistic' was changed from 'error' to 'logloss'. Explicitly set eval_metric if you'd like to restore the old behavior.\n",
      "[CV] ......... eta=0.23, max_depth=17, n_estimators=200, total= 1.7min\n",
      "[CV] eta=0.23, max_depth=17, n_estimators=200 ........................\n",
      "[01:00:27] WARNING: C:/Users/Administrator/workspace/xgboost-win64_release_1.5.0/src/learner.cc:1115: Starting in XGBoost 1.3.0, the default evaluation metric used with the objective 'binary:logistic' was changed from 'error' to 'logloss'. Explicitly set eval_metric if you'd like to restore the old behavior.\n",
      "[CV] ......... eta=0.23, max_depth=17, n_estimators=200, total= 1.6min\n",
      "[CV] eta=0.23, max_depth=17, n_estimators=250 ........................\n",
      "[01:02:03] WARNING: C:/Users/Administrator/workspace/xgboost-win64_release_1.5.0/src/learner.cc:1115: Starting in XGBoost 1.3.0, the default evaluation metric used with the objective 'binary:logistic' was changed from 'error' to 'logloss'. Explicitly set eval_metric if you'd like to restore the old behavior.\n",
      "[CV] ......... eta=0.23, max_depth=17, n_estimators=250, total= 1.8min\n",
      "[CV] eta=0.23, max_depth=17, n_estimators=250 ........................\n",
      "[01:03:54] WARNING: C:/Users/Administrator/workspace/xgboost-win64_release_1.5.0/src/learner.cc:1115: Starting in XGBoost 1.3.0, the default evaluation metric used with the objective 'binary:logistic' was changed from 'error' to 'logloss'. Explicitly set eval_metric if you'd like to restore the old behavior.\n",
      "[CV] ......... eta=0.23, max_depth=17, n_estimators=250, total= 2.0min\n",
      "[CV] eta=0.23, max_depth=17, n_estimators=250 ........................\n",
      "[01:05:54] WARNING: C:/Users/Administrator/workspace/xgboost-win64_release_1.5.0/src/learner.cc:1115: Starting in XGBoost 1.3.0, the default evaluation metric used with the objective 'binary:logistic' was changed from 'error' to 'logloss'. Explicitly set eval_metric if you'd like to restore the old behavior.\n",
      "[CV] ......... eta=0.23, max_depth=17, n_estimators=250, total= 1.9min\n"
     ]
    },
    {
     "name": "stderr",
     "output_type": "stream",
     "text": [
      "[Parallel(n_jobs=1)]: Done  81 out of  81 | elapsed: 133.7min finished\n"
     ]
    },
    {
     "name": "stdout",
     "output_type": "stream",
     "text": [
      "[01:07:51] WARNING: C:/Users/Administrator/workspace/xgboost-win64_release_1.5.0/src/learner.cc:1115: Starting in XGBoost 1.3.0, the default evaluation metric used with the objective 'binary:logistic' was changed from 'error' to 'logloss'. Explicitly set eval_metric if you'd like to restore the old behavior.\n"
     ]
    },
    {
     "data": {
      "text/plain": [
       "GridSearchCV(cv=3,\n",
       "             estimator=XGBClassifier(base_score=None, booster=None,\n",
       "                                     colsample_bylevel=None,\n",
       "                                     colsample_bynode=None,\n",
       "                                     colsample_bytree=None,\n",
       "                                     enable_categorical=False, gamma=None,\n",
       "                                     gpu_id=None, importance_type=None,\n",
       "                                     interaction_constraints=None,\n",
       "                                     learning_rate=None, max_delta_step=None,\n",
       "                                     max_depth=None, min_child_weight=None,\n",
       "                                     missing=nan, monotone_constraints=None,\n",
       "                                     n_estimators=100, n_jobs=None,\n",
       "                                     num_parallel_tree=None, predictor=None,\n",
       "                                     random_state=None, reg_alpha=None,\n",
       "                                     reg_lambda=None, scale_pos_weight=None,\n",
       "                                     subsample=None, tree_method=None,\n",
       "                                     validate_parameters=None, verbosity=None),\n",
       "             n_jobs=1,\n",
       "             param_grid={'eta': [0.18, 0.2, 0.23], 'max_depth': [12, 15, 17],\n",
       "                         'n_estimators': [150, 200, 250]},\n",
       "             verbose=2)"
      ]
     },
     "execution_count": 8,
     "metadata": {},
     "output_type": "execute_result"
    }
   ],
   "source": [
    "grid_clf = GridSearchCV(xgb_clf, param_grid, cv=3, verbose=2, n_jobs=1)\n",
    "grid_clf.fit(X_trn, y_trn)"
   ]
  },
  {
   "cell_type": "code",
   "execution_count": 9,
   "metadata": {},
   "outputs": [
    {
     "data": {
      "text/plain": [
       "0.8233333333333334"
      ]
     },
     "execution_count": 9,
     "metadata": {},
     "output_type": "execute_result"
    }
   ],
   "source": [
    "grid_clf.score(X_test, y_test)"
   ]
  },
  {
   "cell_type": "code",
   "execution_count": 10,
   "metadata": {},
   "outputs": [
    {
     "data": {
      "text/plain": [
       "XGBClassifier(base_score=0.5, booster='gbtree', colsample_bylevel=1,\n",
       "              colsample_bynode=1, colsample_bytree=1, enable_categorical=False,\n",
       "              eta=0.2, gamma=0, gpu_id=-1, importance_type=None,\n",
       "              interaction_constraints='', learning_rate=0.200000003,\n",
       "              max_delta_step=0, max_depth=15, min_child_weight=1, missing=nan,\n",
       "              monotone_constraints='()', n_estimators=150, n_jobs=8,\n",
       "              num_parallel_tree=1, predictor='auto', random_state=0,\n",
       "              reg_alpha=0, reg_lambda=1, scale_pos_weight=1, subsample=1,\n",
       "              tree_method='exact', validate_parameters=1, verbosity=None)"
      ]
     },
     "execution_count": 10,
     "metadata": {},
     "output_type": "execute_result"
    }
   ],
   "source": [
    "grid_clf.best_estimator_"
   ]
  }
 ],
 "metadata": {
  "kernelspec": {
   "display_name": "Python 3",
   "language": "python",
   "name": "python3"
  },
  "language_info": {
   "codemirror_mode": {
    "name": "ipython",
    "version": 3
   },
   "file_extension": ".py",
   "mimetype": "text/x-python",
   "name": "python",
   "nbconvert_exporter": "python",
   "pygments_lexer": "ipython3",
   "version": "3.8.3"
  }
 },
 "nbformat": 4,
 "nbformat_minor": 1
}
