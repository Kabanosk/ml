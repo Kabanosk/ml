{
 "cells": [
  {
   "cell_type": "code",
   "execution_count": 1,
   "metadata": {},
   "outputs": [],
   "source": [
    "import numpy as np\n",
    "\n",
    "from PIL import Image\n",
    "\n",
    "from tensorflow.keras import Sequential, Input\n",
    "from tensorflow.keras.layers import Conv2D, MaxPooling2D, Dense, Dropout, Flatten"
   ]
  },
  {
   "cell_type": "code",
   "execution_count": 2,
   "metadata": {},
   "outputs": [],
   "source": [
    "X_trn, X_test = [], []\n",
    "y_trn, y_test = [], []\n",
    "\n",
    "num_of_pictures = 4000\n",
    "for i in range(1, num_of_pictures+1):\n",
    "    if i <= 1562:\n",
    "        img = Image.open(f'train_dataset/1/file{str(i).zfill(4)}.jpg')\n",
    "        X_trn.append(np.array(img))\n",
    "        y_trn.append(1)\n",
    "    elif i <= 2162:\n",
    "        img = Image.open(f'test_dataset/1/file{str(i).zfill(4)}.jpg')\n",
    "        X_test.append(np.array(img))\n",
    "        y_test.append(1)\n",
    "    elif i <= 3400:\n",
    "        img = Image.open(f'train_dataset/0/file{str(i).zfill(4)}.jpg')\n",
    "        X_trn.append(np.array(img))\n",
    "        y_trn.append(0)\n",
    "    else:\n",
    "        img = Image.open(f'test_dataset/0/file{str(i).zfill(4)}.jpg')\n",
    "        X_test.append(np.array(img))\n",
    "        y_test.append(0)"
   ]
  },
  {
   "cell_type": "code",
   "execution_count": 3,
   "metadata": {},
   "outputs": [],
   "source": [
    "X_trn, X_test, y_trn, y_test = np.array(X_trn), np.array(X_test), np.array(y_trn), np.array(y_test)\n",
    "input_shape = X_trn[0].shape"
   ]
  },
  {
   "cell_type": "code",
   "execution_count": 81,
   "metadata": {},
   "outputs": [
    {
     "name": "stdout",
     "output_type": "stream",
     "text": [
      "WARNING:tensorflow:Please add `keras.layers.InputLayer` instead of `keras.Input` to Sequential model. `keras.Input` is intended to be used by Functional model.\n"
     ]
    }
   ],
   "source": [
    "model = Sequential(\n",
    "    [\n",
    "        Input(shape=input_shape),\n",
    "        Conv2D(64, kernel_size=(3, 3), activation=\"relu\"),\n",
    "        MaxPooling2D(pool_size=(2, 2)),\n",
    "        Conv2D(64, kernel_size=(3, 3), activation=\"relu\"),\n",
    "        MaxPooling2D(pool_size=(2, 2)),\n",
    "        Conv2D(64, kernel_size=(3, 3), activation=\"relu\"),\n",
    "        MaxPooling2D(pool_size=(2, 2)),\n",
    "        Conv2D(64, kernel_size=(3, 3), activation=\"relu\"),\n",
    "        MaxPooling2D(pool_size=(2, 2)),\n",
    "        Flatten(),\n",
    "        Dropout(0.1),\n",
    "        Dense(2, activation=\"sigmoid\"),\n",
    "    ]\n",
    ")"
   ]
  },
  {
   "cell_type": "code",
   "execution_count": 82,
   "metadata": {},
   "outputs": [],
   "source": [
    "model.compile(loss='sparse_categorical_crossentropy', optimizer=\"adam\", metrics=[\"accuracy\"])"
   ]
  },
  {
   "cell_type": "code",
   "execution_count": 93,
   "metadata": {},
   "outputs": [
    {
     "name": "stdout",
     "output_type": "stream",
     "text": [
      "Epoch 1/15\n",
      "13/13 [==============================] - 15s 1s/step - loss: 0.0165 - accuracy: 0.9972 - val_loss: 0.7610 - val_accuracy: 0.8321\n",
      "Epoch 2/15\n",
      "13/13 [==============================] - 14s 1s/step - loss: 0.0126 - accuracy: 0.9968 - val_loss: 0.7300 - val_accuracy: 0.8429\n",
      "Epoch 3/15\n",
      "13/13 [==============================] - 14s 1s/step - loss: 0.0096 - accuracy: 0.9980 - val_loss: 0.7985 - val_accuracy: 0.8393\n",
      "Epoch 4/15\n",
      "13/13 [==============================] - 14s 1s/step - loss: 0.0122 - accuracy: 0.9960 - val_loss: 0.7562 - val_accuracy: 0.8393\n",
      "Epoch 5/15\n",
      "13/13 [==============================] - 14s 1s/step - loss: 0.0119 - accuracy: 0.9964 - val_loss: 0.9711 - val_accuracy: 0.7750\n",
      "Epoch 6/15\n",
      "13/13 [==============================] - 14s 1s/step - loss: 0.0103 - accuracy: 0.9972 - val_loss: 0.9467 - val_accuracy: 0.8071\n",
      "Epoch 7/15\n",
      "13/13 [==============================] - 14s 1s/step - loss: 0.0100 - accuracy: 0.9984 - val_loss: 0.9772 - val_accuracy: 0.7964\n",
      "Epoch 8/15\n",
      "13/13 [==============================] - 14s 1s/step - loss: 0.0115 - accuracy: 0.9972 - val_loss: 0.7370 - val_accuracy: 0.8500\n",
      "Epoch 9/15\n",
      "13/13 [==============================] - 14s 1s/step - loss: 0.0115 - accuracy: 0.9972 - val_loss: 0.9901 - val_accuracy: 0.8036\n",
      "Epoch 10/15\n",
      "13/13 [==============================] - 14s 1s/step - loss: 0.0136 - accuracy: 0.9976 - val_loss: 0.8840 - val_accuracy: 0.8250\n",
      "Epoch 11/15\n",
      "13/13 [==============================] - 14s 1s/step - loss: 0.0142 - accuracy: 0.9980 - val_loss: 0.9728 - val_accuracy: 0.8107\n",
      "Epoch 12/15\n",
      "13/13 [==============================] - 14s 1s/step - loss: 0.0201 - accuracy: 0.9956 - val_loss: 0.8154 - val_accuracy: 0.8250\n",
      "Epoch 13/15\n",
      "13/13 [==============================] - 14s 1s/step - loss: 0.0240 - accuracy: 0.9917 - val_loss: 0.9711 - val_accuracy: 0.8143\n",
      "Epoch 14/15\n",
      "13/13 [==============================] - 14s 1s/step - loss: 0.0219 - accuracy: 0.9921 - val_loss: 1.0492 - val_accuracy: 0.8036\n",
      "Epoch 15/15\n",
      "13/13 [==============================] - 15s 1s/step - loss: 0.0243 - accuracy: 0.9929 - val_loss: 1.1645 - val_accuracy: 0.7964\n"
     ]
    },
    {
     "data": {
      "text/plain": [
       "<tensorflow.python.keras.callbacks.History at 0x1ea998e3ee0>"
      ]
     },
     "execution_count": 93,
     "metadata": {},
     "output_type": "execute_result"
    }
   ],
   "source": [
    "model.fit(X_trn, y_trn, batch_size=200, epochs=15, validation_split=0.1)\n"
   ]
  },
  {
   "cell_type": "code",
   "execution_count": 94,
   "metadata": {},
   "outputs": [
    {
     "name": "stdout",
     "output_type": "stream",
     "text": [
      "Test loss: 0.7057051658630371\n",
      "Test accuracy: 0.8608333468437195\n"
     ]
    }
   ],
   "source": [
    "score = model.evaluate(X_test, y_test, verbose=0)\n",
    "print(\"Test loss:\", score[0])\n",
    "print(\"Test accuracy:\", score[1])\n"
   ]
  },
  {
   "cell_type": "code",
   "execution_count": null,
   "metadata": {},
   "outputs": [],
   "source": []
  },
  {
   "cell_type": "code",
   "execution_count": null,
   "metadata": {},
   "outputs": [],
   "source": []
  }
 ],
 "metadata": {
  "kernelspec": {
   "display_name": "Python 3",
   "language": "python",
   "name": "python3"
  },
  "language_info": {
   "codemirror_mode": {
    "name": "ipython",
    "version": 3
   },
   "file_extension": ".py",
   "mimetype": "text/x-python",
   "name": "python",
   "nbconvert_exporter": "python",
   "pygments_lexer": "ipython3",
   "version": "3.8.3"
  }
 },
 "nbformat": 4,
 "nbformat_minor": 1
}