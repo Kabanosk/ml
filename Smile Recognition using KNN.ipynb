{
  "cells":[
    {
      "cell_type":"code",
      "source":[
        "import numpy as np\n",
        "\n",
        "import PIL.Image as Image\n",
        "\n",
        "from sklearn.neighbors import KNeighborsClassifier"
      ],
      "execution_count":1,
      "outputs":[
        
      ],
      "metadata":{
        
      }
    },
    {
      "cell_type":"code",
      "source":[
        "X_trn, X_test = [], []\n",
        "y_trn, y_test = [], []\n",
        "\n",
        "num_of_pictures = 3400\n",
        "for i in range(1, num_of_pictures+1):\n",
        "    if i <= 1562:\n",
        "        img = Image.open(f'train_dataset\/1\/file{str(i).zfill(4)}.jpg')\n",
        "        X_trn.append(np.array(img))\n",
        "        y_trn.append(1)\n",
        "    elif i <= 2162:\n",
        "        img = Image.open(f'test_dataset\/1\/file{str(i).zfill(4)}.jpg')\n",
        "        X_test.append(np.array(img))\n",
        "        y_test.append(1)\n",
        "    elif i <= 3400:\n",
        "        img = Image.open(f'train_dataset\/0\/file{str(i).zfill(4)}.jpg')\n",
        "        X_trn.append(np.array(img))\n",
        "        y_trn.append(0)\n",
        "    else:\n",
        "        img = Image.open(f'test_dataset\/0\/file{str(i).zfill(4)}.jpg')\n",
        "        X_test.append(np.array(img))\n",
        "        y_test.append(0)"
      ],
      "execution_count":2,
      "outputs":[
        
      ],
      "metadata":{
        
      }
    },
    {
      "cell_type":"code",
      "source":[
        "X_trn, X_test, y_trn, y_test = np.array(X_trn).reshape(-1,64*64*3), np.array(X_test).reshape(-1,64*64*3), np.array(y_trn), np.array(y_test)"
      ],
      "execution_count":3,
      "outputs":[
        
      ],
      "metadata":{
        
      }
    },
    {
      "cell_type":"code",
      "source":[
        "knn_clf = KNeighborsClassifier(600)"
      ],
      "execution_count":10,
      "outputs":[
        
      ],
      "metadata":{
        
      }
    },
    {
      "cell_type":"code",
      "source":[
        "knn_clf.fit(X_trn, y_trn)"
      ],
      "execution_count":11,
      "outputs":[
        {
          "data":{
            "text\/plain":[
              "KNeighborsClassifier(n_neighbors=600)"
            ]
          },
          "metadata":{
            
          },
          "output_type":"display_data"
        }
      ],
      "metadata":{
        
      }
    },
    {
      "cell_type":"code",
      "source":[
        "knn_clf.score(X_test, y_test)"
      ],
      "execution_count":12,
      "outputs":[
        {
          "data":{
            "text\/plain":[
              "0.9483333333333334"
            ]
          },
          "metadata":{
            
          },
          "output_type":"display_data"
        }
      ],
      "metadata":{
        
      }
    }
  ],
  "metadata":{
    
  },
  "nbformat":4,
  "nbformat_minor":0
}