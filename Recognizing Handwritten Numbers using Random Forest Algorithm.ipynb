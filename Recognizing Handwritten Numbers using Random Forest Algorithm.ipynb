{
  "cells":[
    {
      "cell_type":"code",
      "source":[
        "from sklearn.datasets import fetch_openml\n",
        "mnist = fetch_openml('mnist_784', version=1)"
      ],
      "execution_count":2,
      "outputs":[
        
      ],
      "metadata":{
        
      }
    },
    {
      "cell_type":"code",
      "source":[
        "import matplotlib.pyplot as plt"
      ],
      "execution_count":3,
      "outputs":[
        
      ],
      "metadata":{
        
      }
    },
    {
      "cell_type":"code",
      "source":[
        "X, y = mnist['data'], mnist['target']\n",
        "X = X.to_numpy()\n",
        "y = y.to_numpy()\n",
        "\n",
        "X_train, X_test, y_train, y_test = X[:60000], X[60000:], y[:60000], y[60000:]"
      ],
      "execution_count":4,
      "outputs":[
        
      ],
      "metadata":{
        
      }
    },
    {
      "cell_type":"code",
      "source":[
        "some_digit = X[60000]\n",
        "some_digit_image = some_digit.reshape(28,28)\n",
        "\n",
        "plt.imshow(some_digit_image, cmap='binary')\n",
        "plt.axis('off')\n",
        "plt.show"
      ],
      "execution_count":5,
      "outputs":[
        {
          "data":{
            "text\/plain":[
              "<function matplotlib.pyplot.show(close=None, block=None)>"
            ],
            "image\/png":[
              "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\n"
            ]
          },
          "metadata":{
            "image\/png":{
              
            }
          },
          "output_type":"display_data"
        }
      ],
      "metadata":{
        
      }
    },
    {
      "cell_type":"code",
      "source":[
        "from sklearn.ensemble import RandomForestClassifier\n",
        "\n",
        "rnd_clf = RandomForestClassifier()"
      ],
      "execution_count":6,
      "outputs":[
        
      ],
      "metadata":{
        
      }
    },
    {
      "cell_type":"code",
      "source":[
        "from sklearn.model_selection import GridSearchCV\n",
        "\n",
        "param_grid = [\n",
        "    {\n",
        "        'n_estimators': [100, 150, 200, 300], \n",
        "        'max_features': [9, 10, 12, 15], \n",
        "        'max_leaf_nodes': [50, 60, 70, 80]\n",
        "    }\n",
        "]\n",
        "\n",
        "grid_search = GridSearchCV(rnd_clf, param_grid, cv=5,\n",
        "                           scoring='neg_mean_squared_error',\n",
        "                           return_train_score=True)\n",
        "\n",
        "grid_search.fit(X_train,y_train)"
      ],
      "execution_count":8,
      "outputs":[
        
      ],
      "metadata":{
        
      }
    },
    {
      "cell_type":"code",
      "source":[
        "final_model = grid_search.best_estimator_"
      ],
      "execution_count":9,
      "outputs":[
        
      ],
      "metadata":{
        
      }
    },
    {
      "cell_type":"code",
      "source":[
        "predictions = final_model.predict(X_test)"
      ],
      "execution_count":10,
      "outputs":[
        
      ],
      "metadata":{
        
      }
    },
    {
      "cell_type":"code",
      "source":[
        "from sklearn.metrics import accuracy_score\n",
        "\n",
        "accuracy_score(y_test, predictions)"
      ],
      "execution_count":11,
      "outputs":[
        {
          "data":{
            "text\/plain":[
              "0.9134"
            ]
          },
          "metadata":{
            
          },
          "output_type":"display_data"
        }
      ],
      "metadata":{
        
      }
    },
    
  ],
  "metadata":{
    
  },
  "nbformat":4,
  "nbformat_minor":0
}
